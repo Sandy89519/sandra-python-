{
 "cells": [
  {
   "cell_type": "code",
   "execution_count": 17,
   "id": "0b86d04d-f3cd-4dd4-aa32-e049ba6628a7",
   "metadata": {},
   "outputs": [
    {
     "data": {
      "text/plain": [
       "array([[[[1, 2],\n",
       "         [3, 4],\n",
       "         [5, 6]]],\n",
       "\n",
       "\n",
       "       [[[1, 2],\n",
       "         [3, 4],\n",
       "         [5, 6]]],\n",
       "\n",
       "\n",
       "       [[[1, 2],\n",
       "         [3, 4],\n",
       "         [5, 6]]]])"
      ]
     },
     "execution_count": 17,
     "metadata": {},
     "output_type": "execute_result"
    }
   ],
   "source": [
    "import numpy as np\n",
    "\n",
    "tensor= np.array ([\n",
    "    [[[1,2],[3,4],[5,6]]],\n",
    "    [[[1,2],[3,4],[5,6]]],\n",
    "    [[[1,2],[3,4],[5,6]]]\n",
    "])\n",
    "tensor "
   ]
  },
  {
   "cell_type": "code",
   "execution_count": 21,
   "id": "680f457b-4d90-41f4-ad11-9a7e25070789",
   "metadata": {},
   "outputs": [
    {
     "data": {
      "text/plain": [
       "array([[3, 4],\n",
       "       [9, 9]])"
      ]
     },
     "execution_count": 21,
     "metadata": {},
     "output_type": "execute_result"
    }
   ],
   "source": [
    "\n",
    "arreglo=np.random.randint(1,10, size=(2,2))\n",
    "arreglo"
   ]
  },
  {
   "cell_type": "code",
   "execution_count": 23,
   "id": "94fd67cf-e5de-4780-8977-043e5a9115eb",
   "metadata": {},
   "outputs": [
    {
     "data": {
      "text/plain": [
       "array([[0.94729678, 0.38632722, 0.99428174],\n",
       "       [0.5512755 , 0.3440978 , 0.05708537]])"
      ]
     },
     "execution_count": 23,
     "metadata": {},
     "output_type": "execute_result"
    }
   ],
   "source": [
    "arreglo1=np.random.rand(2,3)\n",
    "arreglo1"
   ]
  },
  {
   "cell_type": "code",
   "execution_count": 41,
   "id": "6aa3708e-87b2-49c4-917c-a6c4811460df",
   "metadata": {},
   "outputs": [
    {
     "data": {
      "text/plain": [
       "array([[9, 1, 2, 3, 8, 4, 5, 7, 3, 1, 7, 3, 9, 8, 4, 2, 4, 3, 1, 3],\n",
       "       [7, 5, 9, 5, 2, 1, 8, 3, 9, 4, 4, 4, 3, 5, 4, 5, 4, 4, 4, 5]])"
      ]
     },
     "execution_count": 41,
     "metadata": {},
     "output_type": "execute_result"
    }
   ],
   "source": [
    "arreglo=np.random.randint(1,10, size =(2,20))\n",
    "arreglo "
   ]
  },
  {
   "cell_type": "code",
   "execution_count": 81,
   "id": "9c12e7b1-c84f-42d2-8fff-43373e8045b4",
   "metadata": {},
   "outputs": [
    {
     "data": {
      "text/plain": [
       "array([[ 1, 28, 50, 60, 51, 99, 56, 54, 60, 14, 89, 46, 37, 71, 99, 57,\n",
       "         3, 82, 39,  7]])"
      ]
     },
     "execution_count": 81,
     "metadata": {},
     "output_type": "execute_result"
    }
   ],
   "source": [
    "import numpy as np\n",
    "import random\n",
    "vec1 = np.random.randint(1,100, size =(1,20))\n",
    "vec2 = vec1.reshape(4, 5)\n",
    "vec2\n",
    "vec1\n",
    "                         "
   ]
  },
  {
   "cell_type": "code",
   "execution_count": 61,
   "id": "0b6c9121-3c30-4bce-beda-814c4a2022ad",
   "metadata": {},
   "outputs": [
    {
     "name": "stdin",
     "output_type": "stream",
     "text": [
      "ingrese cantidad de filas:  \n"
     ]
    },
    {
     "ename": "ValueError",
     "evalue": "invalid literal for int() with base 10: ''",
     "output_type": "error",
     "traceback": [
      "\u001b[1;31m---------------------------------------------------------------------------\u001b[0m",
      "\u001b[1;31mValueError\u001b[0m                                Traceback (most recent call last)",
      "Cell \u001b[1;32mIn[61], line 2\u001b[0m\n\u001b[0;32m      1\u001b[0m vec1 \u001b[38;5;241m=\u001b[39m np\u001b[38;5;241m.\u001b[39mrandom\u001b[38;5;241m.\u001b[39mrandint(\u001b[38;5;241m1\u001b[39m,\u001b[38;5;241m100\u001b[39m, size \u001b[38;5;241m=\u001b[39m(\u001b[38;5;241m1\u001b[39m, random\u001b[38;5;241m.\u001b[39mrandint(\u001b[38;5;241m5\u001b[39m,\u001b[38;5;241m15\u001b[39m)))\n\u001b[1;32m----> 2\u001b[0m f \u001b[38;5;241m=\u001b[39m \u001b[38;5;28mint\u001b[39m(\u001b[38;5;28minput\u001b[39m(\u001b[38;5;124m\"\u001b[39m\u001b[38;5;124mingrese cantidad de filas: \u001b[39m\u001b[38;5;124m\"\u001b[39m))\n\u001b[0;32m      3\u001b[0m c \u001b[38;5;241m=\u001b[39m \u001b[38;5;28mint\u001b[39m (\u001b[38;5;28minput\u001b[39m(\u001b[38;5;124m\"\u001b[39m\u001b[38;5;124mingrese cantidad de columnas: \u001b[39m\u001b[38;5;124m\"\u001b[39m))\n\u001b[0;32m      4\u001b[0m arreglo \u001b[38;5;241m=\u001b[39m np\u001b[38;5;241m.\u001b[39many(vec1)\n",
      "\u001b[1;31mValueError\u001b[0m: invalid literal for int() with base 10: ''"
     ]
    }
   ],
   "source": [
    "vec1 = np.random.randint(1,100, size =(1, random.randint(5,15)))\n",
    "f = int(input(\"ingrese cantidad de filas: \"))\n",
    "c = int (input(\"ingrese cantidad de columnas: \"))\n",
    "arreglo = np.any(vec1)\n",
    "nuevo=arreglo.reshape(f,c)\n",
    "nuevo\n",
    "\n",
    "vec1\n",
    "        "
   ]
  },
  {
   "cell_type": "code",
   "execution_count": 117,
   "id": "5c751534-8742-44c8-a49f-d744c2e1ad32",
   "metadata": {},
   "outputs": [
    {
     "data": {
      "text/plain": [
       "array([[39,  4, 12, 72, 96],\n",
       "       [ 2, 26, 53, 65, 61],\n",
       "       [ 6, 57, 82, 82, 41],\n",
       "       [25, 38, 73, 23, 40],\n",
       "       [57, 92, 41,  1, 84]])"
      ]
     },
     "execution_count": 117,
     "metadata": {},
     "output_type": "execute_result"
    }
   ],
   "source": [
    "matrix=np.random.randint(1,100,size=(5,5))\n",
    "matrix"
   ]
  },
  {
   "cell_type": "code",
   "execution_count": 119,
   "id": "950aac33-6b61-4b12-814f-aa0a1815f0c4",
   "metadata": {},
   "outputs": [
    {
     "data": {
      "text/plain": [
       "array([[12, 72, 96],\n",
       "       [53, 65, 61],\n",
       "       [82, 82, 41],\n",
       "       [73, 23, 40],\n",
       "       [41,  1, 84]])"
      ]
     },
     "execution_count": 119,
     "metadata": {},
     "output_type": "execute_result"
    }
   ],
   "source": [
    "mitad= matrix[:,2:]\n",
    "mitad"
   ]
  },
  {
   "cell_type": "code",
   "execution_count": 121,
   "id": "d28e4951-64a2-4a77-81eb-9a05a9419297",
   "metadata": {},
   "outputs": [
    {
     "data": {
      "text/plain": [
       "826"
      ]
     },
     "execution_count": 121,
     "metadata": {},
     "output_type": "execute_result"
    }
   ],
   "source": [
    "suma= np.sum(mitad)\n",
    "suma"
   ]
  },
  {
   "cell_type": "code",
   "execution_count": 123,
   "id": "9877a69b-d95a-4ed7-822c-cb1f1cbda7c2",
   "metadata": {},
   "outputs": [
    {
     "data": {
      "text/plain": [
       "55.06666666666667"
      ]
     },
     "execution_count": 123,
     "metadata": {},
     "output_type": "execute_result"
    }
   ],
   "source": [
    "promedio=np.mean(mitad)\n",
    "promedio"
   ]
  },
  {
   "cell_type": "code",
   "execution_count": 125,
   "id": "f64b2085-8171-4ee8-a434-45f4b21d9fd0",
   "metadata": {},
   "outputs": [
    {
     "data": {
      "text/plain": [
       "96"
      ]
     },
     "execution_count": 125,
     "metadata": {},
     "output_type": "execute_result"
    }
   ],
   "source": [
    "maximo=np.max(mitad)\n",
    "maximo"
   ]
  },
  {
   "cell_type": "code",
   "execution_count": 127,
   "id": "87d0cb62-22b6-40d4-a389-b437a21ba684",
   "metadata": {},
   "outputs": [
    {
     "data": {
      "text/plain": [
       "1"
      ]
     },
     "execution_count": 127,
     "metadata": {},
     "output_type": "execute_result"
    }
   ],
   "source": [
    "minimo=np.min(mitad)\n",
    "minimo"
   ]
  },
  {
   "cell_type": "code",
   "execution_count": 129,
   "id": "1ea5aafd-2033-4e70-acdc-b9b9082b355d",
   "metadata": {},
   "outputs": [
    {
     "data": {
      "text/plain": [
       "array([[ 6, 57, 82, 82, 41],\n",
       "       [25, 38, 73, 23, 40],\n",
       "       [57, 92, 41,  1, 84]])"
      ]
     },
     "execution_count": 129,
     "metadata": {},
     "output_type": "execute_result"
    }
   ],
   "source": [
    "filas=matrix[2:,:]\n",
    "filas"
   ]
  },
  {
   "cell_type": "code",
   "execution_count": 131,
   "id": "7fdcf872-1484-42fe-a189-76606fce5b2f",
   "metadata": {},
   "outputs": [
    {
     "data": {
      "text/plain": [
       "742"
      ]
     },
     "execution_count": 131,
     "metadata": {},
     "output_type": "execute_result"
    }
   ],
   "source": [
    "suma= np.sum(filas)\n",
    "suma"
   ]
  },
  {
   "cell_type": "code",
   "execution_count": 133,
   "id": "922c75d2-28b1-494e-9c17-7f0af374cef4",
   "metadata": {},
   "outputs": [
    {
     "data": {
      "text/plain": [
       "49.46666666666667"
      ]
     },
     "execution_count": 133,
     "metadata": {},
     "output_type": "execute_result"
    }
   ],
   "source": [
    "promedio=np.mean(filas)\n",
    "promedio"
   ]
  },
  {
   "cell_type": "code",
   "execution_count": 135,
   "id": "bb445e80-a919-4a0c-9a75-7262d03487ea",
   "metadata": {},
   "outputs": [
    {
     "data": {
      "text/plain": [
       "92"
      ]
     },
     "execution_count": 135,
     "metadata": {},
     "output_type": "execute_result"
    }
   ],
   "source": [
    "maximo=np.max(filas)\n",
    "maximo"
   ]
  },
  {
   "cell_type": "code",
   "execution_count": 137,
   "id": "7549d804-03cc-473c-bc8c-64d541b51de0",
   "metadata": {},
   "outputs": [
    {
     "data": {
      "text/plain": [
       "1"
      ]
     },
     "execution_count": 137,
     "metadata": {},
     "output_type": "execute_result"
    }
   ],
   "source": [
    "minimo=np.min(filas)\n",
    "minimo"
   ]
  },
  {
   "cell_type": "code",
   "execution_count": 141,
   "id": "d5e196db-88b4-4797-ba23-9c03ca1f356c",
   "metadata": {},
   "outputs": [
    {
     "data": {
      "text/plain": [
       "array([[25, 38, 73, 23, 40],\n",
       "       [57, 92, 41,  1, 84]])"
      ]
     },
     "execution_count": 141,
     "metadata": {},
     "output_type": "execute_result"
    }
   ],
   "source": [
    "colum=matrix[:,:]\n",
    "colum"
   ]
  },
  {
   "cell_type": "code",
   "execution_count": null,
   "id": "48a0f9cb-88a3-404d-ad0e-9b4488025b0e",
   "metadata": {},
   "outputs": [],
   "source": []
  }
 ],
 "metadata": {
  "kernelspec": {
   "display_name": "Python [conda env:base] *",
   "language": "python",
   "name": "conda-base-py"
  },
  "language_info": {
   "codemirror_mode": {
    "name": "ipython",
    "version": 3
   },
   "file_extension": ".py",
   "mimetype": "text/x-python",
   "name": "python",
   "nbconvert_exporter": "python",
   "pygments_lexer": "ipython3",
   "version": "3.12.7"
  }
 },
 "nbformat": 4,
 "nbformat_minor": 5
}
