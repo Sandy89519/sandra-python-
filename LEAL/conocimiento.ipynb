{
 "cells": [
  {
   "cell_type": "raw",
   "id": "e30f8bf2-3fc7-4489-a72e-09358a1bfcdd",
   "metadata": {},
   "source": [
    "SANDRA PATRICIA GARCIA LEAL "
   ]
  },
  {
   "cell_type": "raw",
   "id": "c2160d68-fe29-4369-aee5-296325eb43cf",
   "metadata": {},
   "source": [
    "MI CONOCIMIENTO DE PYTHON\n",
    "\n",
    "Voy a presentar de forma cronológica todos los conocimientos que he obtenido sobre el uso del lenguaje de programación Python.\n",
    "\n",
    "1.ENTRADAS Y SALIDAS\n",
    "\n",
    "ENTRADAS: permite al usuario proporcionar datos al programa, que recibe una cadena de texto como mensaje opcional\n",
    "\n"
   ]
  },
  {
   "cell_type": "code",
   "execution_count": null,
   "id": "6daaca11-3320-46f7-8d80-f33ddd4003e7",
   "metadata": {},
   "outputs": [],
   "source": [
    "input (\"ingrese tu nombre\")\n",
    "int(input(\"ingrese tu edad\")"
   ]
  },
  {
   "cell_type": "raw",
   "id": "d4d00138-48d0-4960-be5b-ab1c3abbc3bf",
   "metadata": {},
   "source": [
    "SALIDAS: Las salidas se utilizan para que el programa le muestre información al usuario"
   ]
  },
  {
   "cell_type": "code",
   "execution_count": null,
   "id": "01621f80-9e53-47dc-8e3e-682818dc6eb5",
   "metadata": {},
   "outputs": [],
   "source": [
    "print (\"digite tres numeros\")"
   ]
  },
  {
   "cell_type": "raw",
   "id": "dddaf802-6d17-4af9-9560-1a11c30402a9",
   "metadata": {},
   "source": [
    "2. CONSTANTES Y VARIABLES\n",
    "\n",
    "Los tipos de datos determina como se manipula los valores. Existen los tipos primitivos que son:\n",
    "         * enteros (int)\n",
    "         * flotantes (float)\n",
    "         * cadena de texto (str)\n",
    "    y también están los tipos de datos mas avanzados los cuales podrían ser:\n",
    "         * listas (list)\n",
    "         * conjuntos (set)\n",
    "         * rango (range) \n",
    "\n"
   ]
  },
  {
   "cell_type": "code",
   "execution_count": null,
   "id": "8d6debcc-1c27-4fee-bb18-35a4d88dd9b9",
   "metadata": {},
   "outputs": [],
   "source": [
    "num1= int(input(\"digite el primer numero\")\n",
    "num2= float(input(\"Introduce un número decimal: \"))\n",
    "str(true)\n",
    "mi_lista = list[]\n",
    "numeros = list(range(5))\n",
    "\n",
    "\n"
   ]
  },
  {
   "cell_type": "raw",
   "id": "10f02614-e214-4341-9e88-e8afca0dfa7c",
   "metadata": {},
   "source": [
    "3.OPERADORES \n",
    "\n",
    "permite realizar cálculos y comparaciones en Python los operadores se dividen en varias categorías las cuales son:\n",
    "        * ARITMETICAS: (suma, resta, multiplicación)\n",
    "        * COMPARACION: (mayor, menor, igual) \n",
    "        * LOGICOS: (and , or, not)\n",
    "        * AIGNACION: (=, +=)\n",
    "        * IDENTIDAD: (es, no es)(is, is not)\n",
    "        * PERTENENCIA: (pertenece, no pertenece)( in, not in )\n",
    "\n"
   ]
  },
  {
   "cell_type": "code",
   "execution_count": null,
   "id": "355946e4-8528-4365-b4be-dbf3249b57b3",
   "metadata": {},
   "outputs": [],
   "source": [
    "resultado = \"Hola\" + \" \" + \"Mundo\" * 2   resultado = 5 + 3 - 2 * 4\n",
    "resultado = \"manzana\" < \"pera\"\n",
    "resultado = (\"manzana\" == \"manzana\" and \"pera\" != \"banana\") or not (\"uva\" == \"uva\")\n",
    "mensaje = \"Hola\" mensaje += \" Mundo\"\n",
    "if a is b:\n",
    "    print(\"a y b son el mismo objeto\")\n",
    "else:\n",
    "    print(\"a y b NO son el mismo objeto\")\n",
    "if a is not b:\n",
    "    print(\"a y b NO son el mismo objeto\")\n",
    "else:\n",
    "    print(\"a y b son el mismo objeto\")\n",
    "\n",
    "\n",
    "\n",
    "\n",
    "\n",
    "\n",
    "\n"
   ]
  },
  {
   "cell_type": "raw",
   "id": "dee9590b-2059-45b4-8180-d30d803562e6",
   "metadata": {},
   "source": [
    "4.ESTRUCTURAS DE CONTROL CONDICIONAL\n",
    "\n",
    "IF: ( es un si condicional, es decir el programa ejecuta si la opción es verdadera)\n",
    "IF - ELSE: (si la condición es verdadera, y si la condición es falsa)\n",
    "IF - ELIF - ELSE: ( son multiples condiciones de manera organizada if relaciona la opcion verdadera es un si condicional, elif es \"por otro lado\" y el else es un no condicional) \n",
    "\n"
   ]
  },
  {
   "cell_type": "code",
   "execution_count": null,
   "id": "4cacb515-26a5-4ca0-b31e-f325c7fd78d8",
   "metadata": {},
   "outputs": [],
   "source": [
    "if num< mínimo or num> máximo \n",
    "print(\"el numero esta fuera del rango\")\n",
    "\n",
    "if edad >= 18\n",
    "    print(\"eres mayor de edad\")\n",
    "else: >=10\n",
    "    print(\"eres menor de edad\")\n",
    "\n",
    "if edad >= 20\n",
    "    print (\"eres un adulto\")\n",
    "elif edad >= 14\n",
    "  print (\"eres un adolescente\")\n",
    "else:\n",
    " print (\"eres un niño)\n",
    "\n",
    "\n",
    "\n"
   ]
  },
  {
   "cell_type": "raw",
   "id": "4acf8452-6bbc-4a35-bf28-fbf285647351",
   "metadata": {},
   "source": [
    "5. ESTRUCTURA DE CONTROL CICLICA \n",
    "\n",
    "son aquelllas que permiten repetir un bloque de codigo varias veces de acuerdo con una condicion o un numero especifico de repeticiones\n",
    "\n",
    "* FOR: se usa para iterar un numero determinado de veces \n",
    "* WHILE:  se ejecuta mientras se cumpla una condicion \n"
   ]
  },
  {
   "cell_type": "code",
   "execution_count": null,
   "id": "c2810c4e-b8c5-4965-9c89-ed816a839f67",
   "metadata": {},
   "outputs": [],
   "source": [
    "for i in range(1, 6):\n",
    "    print(i)\n",
    "i = 1\n",
    "while i <= 5:\n",
    "    print(i)\n",
    "    i += 1"
   ]
  },
  {
   "cell_type": "raw",
   "id": "0070399c-25bb-44da-b5e7-e82f5741d855",
   "metadata": {},
   "source": [
    "6. FUNCIONES \n",
    "son bloques de codigo que realizan una tarea especifica y que pueden ser reutilizados a lo largo de un programa. Una funcion en programacion recibe una o mas entradas, en python las funciones se definen utilizando def \n",
    "\n",
    "\n"
   ]
  },
  {
   "cell_type": "code",
   "execution_count": null,
   "id": "0ba54b1d-3824-496d-b7f4-b63107641a0b",
   "metadata": {},
   "outputs": [],
   "source": [
    "def nombre_de_la_funcion(parametros):\n",
    "    "
   ]
  },
  {
   "cell_type": "raw",
   "id": "da37b023-dac0-4ddd-9f3d-f8fb7b271aed",
   "metadata": {},
   "source": [
    "7.MODULOS \n",
    "\n",
    "Un modulo es un archivo que contiene definiciones y declaraciones de funciones, clases y variables que se puede reutilizar en otros programas "
   ]
  },
  {
   "cell_type": "raw",
   "id": "917e9295-7103-4476-b2d2-f5de5b15ce66",
   "metadata": {},
   "source": [
    "8.PAQUETES \n",
    "\n",
    "um paquete es un directorio que contiene multiples archivos .py y, opcionalmente, un archivo llamado _init_.py, este indica que el directorio debe ser tratado como un paquete \n",
    "\n"
   ]
  },
  {
   "cell_type": "raw",
   "id": "a6288a54-cfd9-4a36-81e4-8601d9640480",
   "metadata": {},
   "source": [
    "9.ARCHIVOS\n",
    "\n",
    "es un conjunto de datos almacenados en el sistema de archivos de un computador, los archivos pueden contener texto,imagenes, sonidos etc\n",
    "\n",
    "*ARCHIVO DE TEXTO (.txt, .csv, .json)\n",
    "*MODO DE APERTURA (\"r\", \"w\")\n",
    "\n"
   ]
  },
  {
   "cell_type": "code",
   "execution_count": null,
   "id": "e1e1fe99-0359-4b34-b4eb-ab433dfe24c4",
   "metadata": {},
   "outputs": [],
   "source": [
    "with open('ejemplo.txt', 'r') as archivo:\n",
    "    contenido = archivo.read()\n",
    "    print(contenido)\n",
    "with open('ejemplo.txt', 'r') as archivo:\n",
    "    for linea in archivo:\n",
    "        print(linea.strip())\n",
    "with open('salida.txt', 'w') as archivo:\n",
    "    archivo.write(\"Este es el primer contenido del archivo.\\n\")\n",
    "    archivo.write(\"Este es el segundo contenido del archivo.\"\n",
    "    \n",
    "    "
   ]
  },
  {
   "cell_type": "raw",
   "id": "8eaf963c-0536-44d9-9f11-f63f26742be1",
   "metadata": {},
   "source": [
    "9.1 ARCHIVOS CSV "
   ]
  },
  {
   "cell_type": "code",
   "execution_count": null,
   "id": "8a1a80c3-a024-4533-8775-790ab61e3ac5",
   "metadata": {},
   "outputs": [],
   "source": [
    "import csv\n",
    "with open('estudiantes.csv', newline='', encoding='utf-8') as archivo_csv:\n",
    "    lector = csv.reader(archivo_csv)\n",
    "    for fila in lector:\n",
    "        print(fila)"
   ]
  },
  {
   "cell_type": "raw",
   "id": "64892ac9-63cb-47c1-95ac-32682817663b",
   "metadata": {},
   "source": [
    "9.2 ARCHIVOS JSON "
   ]
  },
  {
   "cell_type": "code",
   "execution_count": null,
   "id": "6bec0062-d0c4-4208-8324-d07d508e357a",
   "metadata": {},
   "outputs": [],
   "source": [
    "import json\n",
    "with open('datos.json', 'r', encoding='utf-8') as archivo_json:\n",
    "    datos = json.load(archivo_json)\n",
    "print(datos)"
   ]
  }
 ],
 "metadata": {
  "kernelspec": {
   "display_name": "Python [conda env:base] *",
   "language": "python",
   "name": "conda-base-py"
  },
  "language_info": {
   "codemirror_mode": {
    "name": "ipython",
    "version": 3
   },
   "file_extension": ".py",
   "mimetype": "text/x-python",
   "name": "python",
   "nbconvert_exporter": "python",
   "pygments_lexer": "ipython3",
   "version": "3.12.7"
  }
 },
 "nbformat": 4,
 "nbformat_minor": 5
}
